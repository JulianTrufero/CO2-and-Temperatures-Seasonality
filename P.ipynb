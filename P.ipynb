{
 "cells": [
  {
   "cell_type": "code",
   "execution_count": 1,
   "metadata": {},
   "outputs": [],
   "source": [
    "import requests\n",
    "import json\n",
    "import os\n",
    "import pandas as pd\n",
    "import numpy as np"
   ]
  },
  {
   "cell_type": "code",
   "execution_count": 10,
   "metadata": {},
   "outputs": [],
   "source": [
    "def get_carbon_data(url):\n",
    "    url = f\"{url}\"\n",
    "    headers = {\n",
    "    'x-rapidapi-host': \"daily-atmosphere-carbon-dioxide-concentration.p.rapidapi.com\",\n",
    "    'x-rapidapi-key': \"6f91c81d8fmshc83b86b1b6c6c5cp108956jsnef221ca08c9a\"\n",
    "    }\n",
    "    response = requests.request(\"GET\", url, headers=headers)\n",
    "    t = response.json()\n",
    "    return t"
   ]
  },
  {
   "cell_type": "code",
   "execution_count": 85,
   "metadata": {},
   "outputs": [],
   "source": [
    "c = pd.DataFrame(t['co2'])"
   ]
  },
  {
   "cell_type": "code",
   "execution_count": 91,
   "metadata": {},
   "outputs": [
    {
     "data": {
      "text/html": [
       "<div>\n",
       "<style scoped>\n",
       "    .dataframe tbody tr th:only-of-type {\n",
       "        vertical-align: middle;\n",
       "    }\n",
       "\n",
       "    .dataframe tbody tr th {\n",
       "        vertical-align: top;\n",
       "    }\n",
       "\n",
       "    .dataframe thead th {\n",
       "        text-align: right;\n",
       "    }\n",
       "</style>\n",
       "<table border=\"1\" class=\"dataframe\">\n",
       "  <thead>\n",
       "    <tr style=\"text-align: right;\">\n",
       "      <th></th>\n",
       "      <th>year</th>\n",
       "      <th>month</th>\n",
       "      <th>day</th>\n",
       "      <th>cycle</th>\n",
       "      <th>trend</th>\n",
       "    </tr>\n",
       "  </thead>\n",
       "  <tbody>\n",
       "    <tr>\n",
       "      <th>3887</th>\n",
       "      <td>2021</td>\n",
       "      <td>8</td>\n",
       "      <td>23</td>\n",
       "      <td>411.45</td>\n",
       "      <td>415.31</td>\n",
       "    </tr>\n",
       "    <tr>\n",
       "      <th>3888</th>\n",
       "      <td>2021</td>\n",
       "      <td>8</td>\n",
       "      <td>24</td>\n",
       "      <td>411.45</td>\n",
       "      <td>415.31</td>\n",
       "    </tr>\n",
       "    <tr>\n",
       "      <th>3889</th>\n",
       "      <td>2021</td>\n",
       "      <td>8</td>\n",
       "      <td>25</td>\n",
       "      <td>411.45</td>\n",
       "      <td>415.32</td>\n",
       "    </tr>\n",
       "    <tr>\n",
       "      <th>3890</th>\n",
       "      <td>2021</td>\n",
       "      <td>8</td>\n",
       "      <td>26</td>\n",
       "      <td>411.45</td>\n",
       "      <td>415.33</td>\n",
       "    </tr>\n",
       "    <tr>\n",
       "      <th>3891</th>\n",
       "      <td>2021</td>\n",
       "      <td>8</td>\n",
       "      <td>27</td>\n",
       "      <td>411.46</td>\n",
       "      <td>415.33</td>\n",
       "    </tr>\n",
       "  </tbody>\n",
       "</table>\n",
       "</div>"
      ],
      "text/plain": [
       "      year month day   cycle   trend\n",
       "3887  2021     8  23  411.45  415.31\n",
       "3888  2021     8  24  411.45  415.31\n",
       "3889  2021     8  25  411.45  415.32\n",
       "3890  2021     8  26  411.45  415.33\n",
       "3891  2021     8  27  411.46  415.33"
      ]
     },
     "execution_count": 91,
     "metadata": {},
     "output_type": "execute_result"
    }
   ],
   "source": [
    "c.tail(5)"
   ]
  },
  {
   "cell_type": "markdown",
   "metadata": {},
   "source": [
    "#### Creamos cd con todos los años para analizar dsp"
   ]
  },
  {
   "cell_type": "code",
   "execution_count": 60,
   "metadata": {},
   "outputs": [],
   "source": [
    "def cod_agrupado(x):\n",
    "    return x.groupby([\"year\", \"month\"]).agg({\"cycle\": \"median\"})"
   ]
  },
  {
   "cell_type": "code",
   "execution_count": 61,
   "metadata": {},
   "outputs": [],
   "source": [
    "cd = cod_agrupado(c)"
   ]
  },
  {
   "cell_type": "code",
   "execution_count": 62,
   "metadata": {
    "scrolled": false
   },
   "outputs": [
    {
     "data": {
      "text/html": [
       "<div>\n",
       "<style scoped>\n",
       "    .dataframe tbody tr th:only-of-type {\n",
       "        vertical-align: middle;\n",
       "    }\n",
       "\n",
       "    .dataframe tbody tr th {\n",
       "        vertical-align: top;\n",
       "    }\n",
       "\n",
       "    .dataframe thead th {\n",
       "        text-align: right;\n",
       "    }\n",
       "</style>\n",
       "<table border=\"1\" class=\"dataframe\">\n",
       "  <thead>\n",
       "    <tr style=\"text-align: right;\">\n",
       "      <th></th>\n",
       "      <th></th>\n",
       "      <th>cycle</th>\n",
       "    </tr>\n",
       "    <tr>\n",
       "      <th>year</th>\n",
       "      <th>month</th>\n",
       "      <th></th>\n",
       "    </tr>\n",
       "  </thead>\n",
       "  <tbody>\n",
       "    <tr>\n",
       "      <th rowspan=\"3\" valign=\"top\">2011</th>\n",
       "      <th>1</th>\n",
       "      <td>391.68</td>\n",
       "    </tr>\n",
       "    <tr>\n",
       "      <th>10</th>\n",
       "      <td>389.47</td>\n",
       "    </tr>\n",
       "    <tr>\n",
       "      <th>11</th>\n",
       "      <td>391.38</td>\n",
       "    </tr>\n",
       "  </tbody>\n",
       "</table>\n",
       "</div>"
      ],
      "text/plain": [
       "             cycle\n",
       "year month        \n",
       "2011 1      391.68\n",
       "     10     389.47\n",
       "     11     391.38"
      ]
     },
     "execution_count": 62,
     "metadata": {},
     "output_type": "execute_result"
    }
   ],
   "source": [
    "cd.head(3)"
   ]
  },
  {
   "cell_type": "markdown",
   "metadata": {},
   "source": [
    "#### Escalamos a cd para que tenga solo los años que nos interesan"
   ]
  },
  {
   "cell_type": "code",
   "execution_count": 95,
   "metadata": {},
   "outputs": [],
   "source": [
    "dates = pd.period_range(start='2011-01-01', end='2021-08-27', freq='D')"
   ]
  },
  {
   "cell_type": "code",
   "execution_count": 97,
   "metadata": {},
   "outputs": [],
   "source": [
    "c['Date'] = dates"
   ]
  },
  {
   "cell_type": "code",
   "execution_count": 99,
   "metadata": {
    "scrolled": true
   },
   "outputs": [
    {
     "data": {
      "text/html": [
       "<div>\n",
       "<style scoped>\n",
       "    .dataframe tbody tr th:only-of-type {\n",
       "        vertical-align: middle;\n",
       "    }\n",
       "\n",
       "    .dataframe tbody tr th {\n",
       "        vertical-align: top;\n",
       "    }\n",
       "\n",
       "    .dataframe thead th {\n",
       "        text-align: right;\n",
       "    }\n",
       "</style>\n",
       "<table border=\"1\" class=\"dataframe\">\n",
       "  <thead>\n",
       "    <tr style=\"text-align: right;\">\n",
       "      <th></th>\n",
       "      <th>year</th>\n",
       "      <th>month</th>\n",
       "      <th>day</th>\n",
       "      <th>cycle</th>\n",
       "      <th>trend</th>\n",
       "      <th>Date</th>\n",
       "    </tr>\n",
       "  </thead>\n",
       "  <tbody>\n",
       "    <tr>\n",
       "      <th>0</th>\n",
       "      <td>2011</td>\n",
       "      <td>1</td>\n",
       "      <td>1</td>\n",
       "      <td>391.26</td>\n",
       "      <td>389.73</td>\n",
       "      <td>2011-01-01</td>\n",
       "    </tr>\n",
       "    <tr>\n",
       "      <th>1</th>\n",
       "      <td>2011</td>\n",
       "      <td>1</td>\n",
       "      <td>2</td>\n",
       "      <td>391.29</td>\n",
       "      <td>389.73</td>\n",
       "      <td>2011-01-02</td>\n",
       "    </tr>\n",
       "    <tr>\n",
       "      <th>2</th>\n",
       "      <td>2011</td>\n",
       "      <td>1</td>\n",
       "      <td>3</td>\n",
       "      <td>391.33</td>\n",
       "      <td>389.74</td>\n",
       "      <td>2011-01-03</td>\n",
       "    </tr>\n",
       "    <tr>\n",
       "      <th>3</th>\n",
       "      <td>2011</td>\n",
       "      <td>1</td>\n",
       "      <td>4</td>\n",
       "      <td>391.36</td>\n",
       "      <td>389.75</td>\n",
       "      <td>2011-01-04</td>\n",
       "    </tr>\n",
       "    <tr>\n",
       "      <th>4</th>\n",
       "      <td>2011</td>\n",
       "      <td>1</td>\n",
       "      <td>5</td>\n",
       "      <td>391.39</td>\n",
       "      <td>389.75</td>\n",
       "      <td>2011-01-05</td>\n",
       "    </tr>\n",
       "    <tr>\n",
       "      <th>...</th>\n",
       "      <td>...</td>\n",
       "      <td>...</td>\n",
       "      <td>...</td>\n",
       "      <td>...</td>\n",
       "      <td>...</td>\n",
       "      <td>...</td>\n",
       "    </tr>\n",
       "    <tr>\n",
       "      <th>3887</th>\n",
       "      <td>2021</td>\n",
       "      <td>8</td>\n",
       "      <td>23</td>\n",
       "      <td>411.45</td>\n",
       "      <td>415.31</td>\n",
       "      <td>2021-08-23</td>\n",
       "    </tr>\n",
       "    <tr>\n",
       "      <th>3888</th>\n",
       "      <td>2021</td>\n",
       "      <td>8</td>\n",
       "      <td>24</td>\n",
       "      <td>411.45</td>\n",
       "      <td>415.31</td>\n",
       "      <td>2021-08-24</td>\n",
       "    </tr>\n",
       "    <tr>\n",
       "      <th>3889</th>\n",
       "      <td>2021</td>\n",
       "      <td>8</td>\n",
       "      <td>25</td>\n",
       "      <td>411.45</td>\n",
       "      <td>415.32</td>\n",
       "      <td>2021-08-25</td>\n",
       "    </tr>\n",
       "    <tr>\n",
       "      <th>3890</th>\n",
       "      <td>2021</td>\n",
       "      <td>8</td>\n",
       "      <td>26</td>\n",
       "      <td>411.45</td>\n",
       "      <td>415.33</td>\n",
       "      <td>2021-08-26</td>\n",
       "    </tr>\n",
       "    <tr>\n",
       "      <th>3891</th>\n",
       "      <td>2021</td>\n",
       "      <td>8</td>\n",
       "      <td>27</td>\n",
       "      <td>411.46</td>\n",
       "      <td>415.33</td>\n",
       "      <td>2021-08-27</td>\n",
       "    </tr>\n",
       "  </tbody>\n",
       "</table>\n",
       "<p>3892 rows × 6 columns</p>\n",
       "</div>"
      ],
      "text/plain": [
       "      year month day   cycle   trend        Date\n",
       "0     2011     1   1  391.26  389.73  2011-01-01\n",
       "1     2011     1   2  391.29  389.73  2011-01-02\n",
       "2     2011     1   3  391.33  389.74  2011-01-03\n",
       "3     2011     1   4  391.36  389.75  2011-01-04\n",
       "4     2011     1   5  391.39  389.75  2011-01-05\n",
       "...    ...   ...  ..     ...     ...         ...\n",
       "3887  2021     8  23  411.45  415.31  2021-08-23\n",
       "3888  2021     8  24  411.45  415.31  2021-08-24\n",
       "3889  2021     8  25  411.45  415.32  2021-08-25\n",
       "3890  2021     8  26  411.45  415.33  2021-08-26\n",
       "3891  2021     8  27  411.46  415.33  2021-08-27\n",
       "\n",
       "[3892 rows x 6 columns]"
      ]
     },
     "metadata": {},
     "output_type": "display_data"
    }
   ],
   "source": [
    "display(c)"
   ]
  },
  {
   "cell_type": "code",
   "execution_count": null,
   "metadata": {},
   "outputs": [],
   "source": []
  },
  {
   "cell_type": "code",
   "execution_count": 26,
   "metadata": {},
   "outputs": [],
   "source": [
    "te = pd.read_csv('/home/julian/Cursos/Ironhack/Proyectos/Proyecto2/temperature.csv')"
   ]
  },
  {
   "cell_type": "code",
   "execution_count": 27,
   "metadata": {},
   "outputs": [
    {
     "data": {
      "text/plain": [
       "Index(['datetime', 'Vancouver', 'Portland', 'San Francisco', 'Seattle',\n",
       "       'Los Angeles', 'San Diego', 'Las Vegas', 'Phoenix', 'Albuquerque',\n",
       "       'Denver', 'San Antonio', 'Dallas', 'Houston', 'Kansas City',\n",
       "       'Minneapolis', 'Saint Louis', 'Chicago', 'Nashville', 'Indianapolis',\n",
       "       'Atlanta', 'Detroit', 'Jacksonville', 'Charlotte', 'Miami',\n",
       "       'Pittsburgh', 'Toronto', 'Philadelphia', 'New York', 'Montreal',\n",
       "       'Boston', 'Beersheba', 'Tel Aviv District', 'Eilat', 'Haifa',\n",
       "       'Nahariyya', 'Jerusalem'],\n",
       "      dtype='object')"
      ]
     },
     "execution_count": 27,
     "metadata": {},
     "output_type": "execute_result"
    }
   ],
   "source": [
    "te.columns"
   ]
  },
  {
   "cell_type": "code",
   "execution_count": 29,
   "metadata": {
    "scrolled": true
   },
   "outputs": [
    {
     "data": {
      "text/plain": [
       "(45253, 37)"
      ]
     },
     "execution_count": 29,
     "metadata": {},
     "output_type": "execute_result"
    }
   ],
   "source": [
    "te.shape"
   ]
  },
  {
   "cell_type": "code",
   "execution_count": 30,
   "metadata": {},
   "outputs": [],
   "source": [
    "nulls = [te[i].isna().value_counts() for i in te.columns]"
   ]
  },
  {
   "cell_type": "code",
   "execution_count": 31,
   "metadata": {},
   "outputs": [
    {
     "name": "stdout",
     "output_type": "stream",
     "text": [
      "False    45252\n",
      "True         1\n",
      "Name: Portland, dtype: int64\n"
     ]
    }
   ],
   "source": [
    "print(nulls[2])"
   ]
  },
  {
   "cell_type": "markdown",
   "metadata": {},
   "source": [
    "### eliminamos columnas inecesarias (solo usa y canada)"
   ]
  },
  {
   "cell_type": "code",
   "execution_count": 32,
   "metadata": {},
   "outputs": [],
   "source": [
    "def keep_columns(x, y):\n",
    "    \"\"\"\n",
    "    Toma como argumento la lista de las columnas que quiero conservar y el nombre del data frame.\n",
    "    Recorre el indice de columnas del data frame correspondiente y elimina las\n",
    "    columnas que no quiero conservar\n",
    "    \"\"\"\n",
    "    relevant = x\n",
    "    for i in y.columns:\n",
    "        if i not in relevant:\n",
    "            y.drop(columns=[i], inplace=True)"
   ]
  },
  {
   "cell_type": "code",
   "execution_count": 33,
   "metadata": {},
   "outputs": [],
   "source": [
    "keep_columns(['datetime', 'Vancouver', 'Portland', 'San Francisco', 'Seattle',\n",
    "       'Los Angeles', 'San Diego', 'Las Vegas', 'Phoenix', 'Albuquerque',\n",
    "       'Denver', 'San Antonio', 'Dallas', 'Houston', 'Kansas City',\n",
    "       'Minneapolis', 'Saint Louis', 'Chicago', 'Nashville', 'Indianapolis',\n",
    "       'Atlanta', 'Detroit', 'Jacksonville', 'Charlotte', 'Miami',\n",
    "       'Pittsburgh', 'Toronto', 'Philadelphia', 'New York', 'Montreal',\n",
    "       'Boston'], te)"
   ]
  },
  {
   "cell_type": "markdown",
   "metadata": {},
   "source": [
    "### Agrupamos por fecha y mediana"
   ]
  },
  {
   "cell_type": "code",
   "execution_count": 34,
   "metadata": {},
   "outputs": [],
   "source": [
    "def mediana_mensual(x):\n",
    "    x['Date'] = x.datetime.apply(lambda y: y[:7])\n",
    "    return x.groupby(\"Date\").median()\n",
    "    "
   ]
  },
  {
   "cell_type": "code",
   "execution_count": 35,
   "metadata": {
    "scrolled": true
   },
   "outputs": [],
   "source": [
    "tem = mediana_mensual(te)"
   ]
  },
  {
   "cell_type": "code",
   "execution_count": 77,
   "metadata": {
    "scrolled": false
   },
   "outputs": [
    {
     "data": {
      "text/html": [
       "<div>\n",
       "<style scoped>\n",
       "    .dataframe tbody tr th:only-of-type {\n",
       "        vertical-align: middle;\n",
       "    }\n",
       "\n",
       "    .dataframe tbody tr th {\n",
       "        vertical-align: top;\n",
       "    }\n",
       "\n",
       "    .dataframe thead th {\n",
       "        text-align: right;\n",
       "    }\n",
       "</style>\n",
       "<table border=\"1\" class=\"dataframe\">\n",
       "  <thead>\n",
       "    <tr style=\"text-align: right;\">\n",
       "      <th></th>\n",
       "      <th>Vancouver</th>\n",
       "      <th>Portland</th>\n",
       "      <th>San Francisco</th>\n",
       "      <th>Seattle</th>\n",
       "      <th>Los Angeles</th>\n",
       "      <th>San Diego</th>\n",
       "      <th>Las Vegas</th>\n",
       "      <th>Phoenix</th>\n",
       "      <th>Albuquerque</th>\n",
       "      <th>Denver</th>\n",
       "      <th>...</th>\n",
       "      <th>Detroit</th>\n",
       "      <th>Jacksonville</th>\n",
       "      <th>Charlotte</th>\n",
       "      <th>Miami</th>\n",
       "      <th>Pittsburgh</th>\n",
       "      <th>Toronto</th>\n",
       "      <th>Philadelphia</th>\n",
       "      <th>New York</th>\n",
       "      <th>Montreal</th>\n",
       "      <th>Boston</th>\n",
       "    </tr>\n",
       "    <tr>\n",
       "      <th>Date</th>\n",
       "      <th></th>\n",
       "      <th></th>\n",
       "      <th></th>\n",
       "      <th></th>\n",
       "      <th></th>\n",
       "      <th></th>\n",
       "      <th></th>\n",
       "      <th></th>\n",
       "      <th></th>\n",
       "      <th></th>\n",
       "      <th></th>\n",
       "      <th></th>\n",
       "      <th></th>\n",
       "      <th></th>\n",
       "      <th></th>\n",
       "      <th></th>\n",
       "      <th></th>\n",
       "      <th></th>\n",
       "      <th></th>\n",
       "      <th></th>\n",
       "      <th></th>\n",
       "    </tr>\n",
       "  </thead>\n",
       "  <tbody>\n",
       "    <tr>\n",
       "      <th>2012-10</th>\n",
       "      <td>10.050</td>\n",
       "      <td>11.630</td>\n",
       "      <td>15.730</td>\n",
       "      <td>10.630</td>\n",
       "      <td>19.260</td>\n",
       "      <td>18.85</td>\n",
       "      <td>20.35</td>\n",
       "      <td>23.740</td>\n",
       "      <td>13.83</td>\n",
       "      <td>9.730</td>\n",
       "      <td>...</td>\n",
       "      <td>11.370</td>\n",
       "      <td>23.24</td>\n",
       "      <td>15.505086</td>\n",
       "      <td>26.25</td>\n",
       "      <td>11.2400</td>\n",
       "      <td>10.11</td>\n",
       "      <td>14.190</td>\n",
       "      <td>14.750</td>\n",
       "      <td>10.600</td>\n",
       "      <td>13.150</td>\n",
       "    </tr>\n",
       "    <tr>\n",
       "      <th>2012-11</th>\n",
       "      <td>7.165</td>\n",
       "      <td>8.405</td>\n",
       "      <td>13.510</td>\n",
       "      <td>7.900</td>\n",
       "      <td>15.500</td>\n",
       "      <td>15.52</td>\n",
       "      <td>14.32</td>\n",
       "      <td>17.705</td>\n",
       "      <td>7.45</td>\n",
       "      <td>7.190</td>\n",
       "      <td>...</td>\n",
       "      <td>4.010</td>\n",
       "      <td>14.86</td>\n",
       "      <td>8.470000</td>\n",
       "      <td>21.66</td>\n",
       "      <td>3.4900</td>\n",
       "      <td>3.55</td>\n",
       "      <td>5.420</td>\n",
       "      <td>5.695</td>\n",
       "      <td>1.255</td>\n",
       "      <td>4.335</td>\n",
       "    </tr>\n",
       "    <tr>\n",
       "      <th>2012-12</th>\n",
       "      <td>4.025</td>\n",
       "      <td>5.110</td>\n",
       "      <td>10.665</td>\n",
       "      <td>5.065</td>\n",
       "      <td>13.245</td>\n",
       "      <td>13.13</td>\n",
       "      <td>8.82</td>\n",
       "      <td>11.405</td>\n",
       "      <td>1.31</td>\n",
       "      <td>0.275</td>\n",
       "      <td>...</td>\n",
       "      <td>2.455</td>\n",
       "      <td>15.96</td>\n",
       "      <td>9.195000</td>\n",
       "      <td>22.19</td>\n",
       "      <td>3.0025</td>\n",
       "      <td>0.75</td>\n",
       "      <td>4.575</td>\n",
       "      <td>4.490</td>\n",
       "      <td>-3.135</td>\n",
       "      <td>1.935</td>\n",
       "    </tr>\n",
       "  </tbody>\n",
       "</table>\n",
       "<p>3 rows × 30 columns</p>\n",
       "</div>"
      ],
      "text/plain": [
       "         Vancouver  Portland  San Francisco  Seattle  Los Angeles  San Diego  \\\n",
       "Date                                                                           \n",
       "2012-10     10.050    11.630         15.730   10.630       19.260      18.85   \n",
       "2012-11      7.165     8.405         13.510    7.900       15.500      15.52   \n",
       "2012-12      4.025     5.110         10.665    5.065       13.245      13.13   \n",
       "\n",
       "         Las Vegas  Phoenix  Albuquerque  Denver  ...  Detroit  Jacksonville  \\\n",
       "Date                                              ...                          \n",
       "2012-10      20.35   23.740        13.83   9.730  ...   11.370         23.24   \n",
       "2012-11      14.32   17.705         7.45   7.190  ...    4.010         14.86   \n",
       "2012-12       8.82   11.405         1.31   0.275  ...    2.455         15.96   \n",
       "\n",
       "         Charlotte  Miami  Pittsburgh  Toronto  Philadelphia  New York  \\\n",
       "Date                                                                     \n",
       "2012-10  15.505086  26.25     11.2400    10.11        14.190    14.750   \n",
       "2012-11   8.470000  21.66      3.4900     3.55         5.420     5.695   \n",
       "2012-12   9.195000  22.19      3.0025     0.75         4.575     4.490   \n",
       "\n",
       "         Montreal  Boston  \n",
       "Date                       \n",
       "2012-10    10.600  13.150  \n",
       "2012-11     1.255   4.335  \n",
       "2012-12    -3.135   1.935  \n",
       "\n",
       "[3 rows x 30 columns]"
      ]
     },
     "execution_count": 77,
     "metadata": {},
     "output_type": "execute_result"
    }
   ],
   "source": [
    "tem.head(3)"
   ]
  },
  {
   "cell_type": "markdown",
   "metadata": {},
   "source": [
    "### transformamos a celcius"
   ]
  },
  {
   "cell_type": "code",
   "execution_count": 37,
   "metadata": {},
   "outputs": [],
   "source": [
    "def celsius_conv(row):\n",
    "    for i in tem.index:\n",
    "           row[i] = row[i] - 273.15\n",
    "    return row\n",
    "          \n",
    "\n",
    "temc = tem.apply(lambda row : celsius_conv(row))"
   ]
  },
  {
   "cell_type": "code",
   "execution_count": 38,
   "metadata": {},
   "outputs": [
    {
     "data": {
      "text/html": [
       "<div>\n",
       "<style scoped>\n",
       "    .dataframe tbody tr th:only-of-type {\n",
       "        vertical-align: middle;\n",
       "    }\n",
       "\n",
       "    .dataframe tbody tr th {\n",
       "        vertical-align: top;\n",
       "    }\n",
       "\n",
       "    .dataframe thead th {\n",
       "        text-align: right;\n",
       "    }\n",
       "</style>\n",
       "<table border=\"1\" class=\"dataframe\">\n",
       "  <thead>\n",
       "    <tr style=\"text-align: right;\">\n",
       "      <th></th>\n",
       "      <th>Vancouver</th>\n",
       "      <th>Portland</th>\n",
       "      <th>San Francisco</th>\n",
       "      <th>Seattle</th>\n",
       "      <th>Los Angeles</th>\n",
       "      <th>San Diego</th>\n",
       "      <th>Las Vegas</th>\n",
       "      <th>Phoenix</th>\n",
       "      <th>Albuquerque</th>\n",
       "      <th>Denver</th>\n",
       "      <th>...</th>\n",
       "      <th>Detroit</th>\n",
       "      <th>Jacksonville</th>\n",
       "      <th>Charlotte</th>\n",
       "      <th>Miami</th>\n",
       "      <th>Pittsburgh</th>\n",
       "      <th>Toronto</th>\n",
       "      <th>Philadelphia</th>\n",
       "      <th>New York</th>\n",
       "      <th>Montreal</th>\n",
       "      <th>Boston</th>\n",
       "    </tr>\n",
       "    <tr>\n",
       "      <th>Date</th>\n",
       "      <th></th>\n",
       "      <th></th>\n",
       "      <th></th>\n",
       "      <th></th>\n",
       "      <th></th>\n",
       "      <th></th>\n",
       "      <th></th>\n",
       "      <th></th>\n",
       "      <th></th>\n",
       "      <th></th>\n",
       "      <th></th>\n",
       "      <th></th>\n",
       "      <th></th>\n",
       "      <th></th>\n",
       "      <th></th>\n",
       "      <th></th>\n",
       "      <th></th>\n",
       "      <th></th>\n",
       "      <th></th>\n",
       "      <th></th>\n",
       "      <th></th>\n",
       "    </tr>\n",
       "  </thead>\n",
       "  <tbody>\n",
       "    <tr>\n",
       "      <th>2012-10</th>\n",
       "      <td>10.050</td>\n",
       "      <td>11.630</td>\n",
       "      <td>15.730</td>\n",
       "      <td>10.630</td>\n",
       "      <td>19.260</td>\n",
       "      <td>18.85</td>\n",
       "      <td>20.350</td>\n",
       "      <td>23.740</td>\n",
       "      <td>13.83000</td>\n",
       "      <td>9.730</td>\n",
       "      <td>...</td>\n",
       "      <td>11.370</td>\n",
       "      <td>23.24</td>\n",
       "      <td>15.505086</td>\n",
       "      <td>26.250000</td>\n",
       "      <td>11.2400</td>\n",
       "      <td>10.110</td>\n",
       "      <td>14.190</td>\n",
       "      <td>14.7500</td>\n",
       "      <td>10.600000</td>\n",
       "      <td>13.150</td>\n",
       "    </tr>\n",
       "    <tr>\n",
       "      <th>2012-11</th>\n",
       "      <td>7.165</td>\n",
       "      <td>8.405</td>\n",
       "      <td>13.510</td>\n",
       "      <td>7.900</td>\n",
       "      <td>15.500</td>\n",
       "      <td>15.52</td>\n",
       "      <td>14.320</td>\n",
       "      <td>17.705</td>\n",
       "      <td>7.45000</td>\n",
       "      <td>7.190</td>\n",
       "      <td>...</td>\n",
       "      <td>4.010</td>\n",
       "      <td>14.86</td>\n",
       "      <td>8.470000</td>\n",
       "      <td>21.660000</td>\n",
       "      <td>3.4900</td>\n",
       "      <td>3.550</td>\n",
       "      <td>5.420</td>\n",
       "      <td>5.6950</td>\n",
       "      <td>1.255000</td>\n",
       "      <td>4.335</td>\n",
       "    </tr>\n",
       "    <tr>\n",
       "      <th>2012-12</th>\n",
       "      <td>4.025</td>\n",
       "      <td>5.110</td>\n",
       "      <td>10.665</td>\n",
       "      <td>5.065</td>\n",
       "      <td>13.245</td>\n",
       "      <td>13.13</td>\n",
       "      <td>8.820</td>\n",
       "      <td>11.405</td>\n",
       "      <td>1.31000</td>\n",
       "      <td>0.275</td>\n",
       "      <td>...</td>\n",
       "      <td>2.455</td>\n",
       "      <td>15.96</td>\n",
       "      <td>9.195000</td>\n",
       "      <td>22.190000</td>\n",
       "      <td>3.0025</td>\n",
       "      <td>0.750</td>\n",
       "      <td>4.575</td>\n",
       "      <td>4.4900</td>\n",
       "      <td>-3.135000</td>\n",
       "      <td>1.935</td>\n",
       "    </tr>\n",
       "    <tr>\n",
       "      <th>2013-01</th>\n",
       "      <td>2.410</td>\n",
       "      <td>1.535</td>\n",
       "      <td>8.360</td>\n",
       "      <td>2.810</td>\n",
       "      <td>11.585</td>\n",
       "      <td>11.66</td>\n",
       "      <td>5.705</td>\n",
       "      <td>9.310</td>\n",
       "      <td>-1.58875</td>\n",
       "      <td>-0.535</td>\n",
       "      <td>...</td>\n",
       "      <td>-1.540</td>\n",
       "      <td>15.96</td>\n",
       "      <td>7.640000</td>\n",
       "      <td>22.485000</td>\n",
       "      <td>-0.6800</td>\n",
       "      <td>-1.110</td>\n",
       "      <td>1.985</td>\n",
       "      <td>2.0150</td>\n",
       "      <td>-8.603625</td>\n",
       "      <td>-0.455</td>\n",
       "    </tr>\n",
       "    <tr>\n",
       "      <th>2013-02</th>\n",
       "      <td>5.190</td>\n",
       "      <td>5.990</td>\n",
       "      <td>9.170</td>\n",
       "      <td>6.120</td>\n",
       "      <td>12.135</td>\n",
       "      <td>11.69</td>\n",
       "      <td>9.380</td>\n",
       "      <td>11.350</td>\n",
       "      <td>2.81000</td>\n",
       "      <td>-1.660</td>\n",
       "      <td>...</td>\n",
       "      <td>-2.555</td>\n",
       "      <td>16.15</td>\n",
       "      <td>5.425000</td>\n",
       "      <td>21.997867</td>\n",
       "      <td>-1.9850</td>\n",
       "      <td>-3.645</td>\n",
       "      <td>0.235</td>\n",
       "      <td>0.1725</td>\n",
       "      <td>-7.500000</td>\n",
       "      <td>-1.080</td>\n",
       "    </tr>\n",
       "  </tbody>\n",
       "</table>\n",
       "<p>5 rows × 30 columns</p>\n",
       "</div>"
      ],
      "text/plain": [
       "         Vancouver  Portland  San Francisco  Seattle  Los Angeles  San Diego  \\\n",
       "Date                                                                           \n",
       "2012-10     10.050    11.630         15.730   10.630       19.260      18.85   \n",
       "2012-11      7.165     8.405         13.510    7.900       15.500      15.52   \n",
       "2012-12      4.025     5.110         10.665    5.065       13.245      13.13   \n",
       "2013-01      2.410     1.535          8.360    2.810       11.585      11.66   \n",
       "2013-02      5.190     5.990          9.170    6.120       12.135      11.69   \n",
       "\n",
       "         Las Vegas  Phoenix  Albuquerque  Denver  ...  Detroit  Jacksonville  \\\n",
       "Date                                              ...                          \n",
       "2012-10     20.350   23.740     13.83000   9.730  ...   11.370         23.24   \n",
       "2012-11     14.320   17.705      7.45000   7.190  ...    4.010         14.86   \n",
       "2012-12      8.820   11.405      1.31000   0.275  ...    2.455         15.96   \n",
       "2013-01      5.705    9.310     -1.58875  -0.535  ...   -1.540         15.96   \n",
       "2013-02      9.380   11.350      2.81000  -1.660  ...   -2.555         16.15   \n",
       "\n",
       "         Charlotte      Miami  Pittsburgh  Toronto  Philadelphia  New York  \\\n",
       "Date                                                                         \n",
       "2012-10  15.505086  26.250000     11.2400   10.110        14.190   14.7500   \n",
       "2012-11   8.470000  21.660000      3.4900    3.550         5.420    5.6950   \n",
       "2012-12   9.195000  22.190000      3.0025    0.750         4.575    4.4900   \n",
       "2013-01   7.640000  22.485000     -0.6800   -1.110         1.985    2.0150   \n",
       "2013-02   5.425000  21.997867     -1.9850   -3.645         0.235    0.1725   \n",
       "\n",
       "          Montreal  Boston  \n",
       "Date                        \n",
       "2012-10  10.600000  13.150  \n",
       "2012-11   1.255000   4.335  \n",
       "2012-12  -3.135000   1.935  \n",
       "2013-01  -8.603625  -0.455  \n",
       "2013-02  -7.500000  -1.080  \n",
       "\n",
       "[5 rows x 30 columns]"
      ]
     },
     "execution_count": 38,
     "metadata": {},
     "output_type": "execute_result"
    }
   ],
   "source": [
    "temc.head()"
   ]
  },
  {
   "cell_type": "code",
   "execution_count": 39,
   "metadata": {},
   "outputs": [
    {
     "data": {
      "text/plain": [
       "(62, 30)"
      ]
     },
     "execution_count": 39,
     "metadata": {},
     "output_type": "execute_result"
    }
   ],
   "source": [
    "temc.shape"
   ]
  },
  {
   "cell_type": "code",
   "execution_count": null,
   "metadata": {},
   "outputs": [],
   "source": []
  },
  {
   "cell_type": "code",
   "execution_count": 40,
   "metadata": {},
   "outputs": [],
   "source": [
    "h = pd.read_csv('/home/julian/Cursos/Ironhack/Proyectos/Proyecto2/humidity.csv')"
   ]
  },
  {
   "cell_type": "code",
   "execution_count": 41,
   "metadata": {},
   "outputs": [
    {
     "data": {
      "text/html": [
       "<div>\n",
       "<style scoped>\n",
       "    .dataframe tbody tr th:only-of-type {\n",
       "        vertical-align: middle;\n",
       "    }\n",
       "\n",
       "    .dataframe tbody tr th {\n",
       "        vertical-align: top;\n",
       "    }\n",
       "\n",
       "    .dataframe thead th {\n",
       "        text-align: right;\n",
       "    }\n",
       "</style>\n",
       "<table border=\"1\" class=\"dataframe\">\n",
       "  <thead>\n",
       "    <tr style=\"text-align: right;\">\n",
       "      <th></th>\n",
       "      <th>datetime</th>\n",
       "      <th>Vancouver</th>\n",
       "      <th>Portland</th>\n",
       "      <th>San Francisco</th>\n",
       "      <th>Seattle</th>\n",
       "      <th>Los Angeles</th>\n",
       "      <th>San Diego</th>\n",
       "      <th>Las Vegas</th>\n",
       "      <th>Phoenix</th>\n",
       "      <th>Albuquerque</th>\n",
       "      <th>...</th>\n",
       "      <th>Philadelphia</th>\n",
       "      <th>New York</th>\n",
       "      <th>Montreal</th>\n",
       "      <th>Boston</th>\n",
       "      <th>Beersheba</th>\n",
       "      <th>Tel Aviv District</th>\n",
       "      <th>Eilat</th>\n",
       "      <th>Haifa</th>\n",
       "      <th>Nahariyya</th>\n",
       "      <th>Jerusalem</th>\n",
       "    </tr>\n",
       "  </thead>\n",
       "  <tbody>\n",
       "    <tr>\n",
       "      <th>0</th>\n",
       "      <td>2012-10-01 12:00:00</td>\n",
       "      <td>NaN</td>\n",
       "      <td>NaN</td>\n",
       "      <td>NaN</td>\n",
       "      <td>NaN</td>\n",
       "      <td>NaN</td>\n",
       "      <td>NaN</td>\n",
       "      <td>NaN</td>\n",
       "      <td>NaN</td>\n",
       "      <td>NaN</td>\n",
       "      <td>...</td>\n",
       "      <td>NaN</td>\n",
       "      <td>NaN</td>\n",
       "      <td>NaN</td>\n",
       "      <td>NaN</td>\n",
       "      <td>NaN</td>\n",
       "      <td>NaN</td>\n",
       "      <td>25.0</td>\n",
       "      <td>NaN</td>\n",
       "      <td>NaN</td>\n",
       "      <td>NaN</td>\n",
       "    </tr>\n",
       "    <tr>\n",
       "      <th>1</th>\n",
       "      <td>2012-10-01 13:00:00</td>\n",
       "      <td>76.0</td>\n",
       "      <td>81.0</td>\n",
       "      <td>88.0</td>\n",
       "      <td>81.0</td>\n",
       "      <td>88.0</td>\n",
       "      <td>82.0</td>\n",
       "      <td>22.0</td>\n",
       "      <td>23.0</td>\n",
       "      <td>50.0</td>\n",
       "      <td>...</td>\n",
       "      <td>71.0</td>\n",
       "      <td>58.0</td>\n",
       "      <td>93.0</td>\n",
       "      <td>68.0</td>\n",
       "      <td>50.0</td>\n",
       "      <td>63.0</td>\n",
       "      <td>22.0</td>\n",
       "      <td>51.0</td>\n",
       "      <td>51.0</td>\n",
       "      <td>50.0</td>\n",
       "    </tr>\n",
       "    <tr>\n",
       "      <th>2</th>\n",
       "      <td>2012-10-01 14:00:00</td>\n",
       "      <td>76.0</td>\n",
       "      <td>80.0</td>\n",
       "      <td>87.0</td>\n",
       "      <td>80.0</td>\n",
       "      <td>88.0</td>\n",
       "      <td>81.0</td>\n",
       "      <td>21.0</td>\n",
       "      <td>23.0</td>\n",
       "      <td>49.0</td>\n",
       "      <td>...</td>\n",
       "      <td>70.0</td>\n",
       "      <td>57.0</td>\n",
       "      <td>91.0</td>\n",
       "      <td>68.0</td>\n",
       "      <td>51.0</td>\n",
       "      <td>62.0</td>\n",
       "      <td>22.0</td>\n",
       "      <td>51.0</td>\n",
       "      <td>51.0</td>\n",
       "      <td>50.0</td>\n",
       "    </tr>\n",
       "  </tbody>\n",
       "</table>\n",
       "<p>3 rows × 37 columns</p>\n",
       "</div>"
      ],
      "text/plain": [
       "              datetime  Vancouver  Portland  San Francisco  Seattle  \\\n",
       "0  2012-10-01 12:00:00        NaN       NaN            NaN      NaN   \n",
       "1  2012-10-01 13:00:00       76.0      81.0           88.0     81.0   \n",
       "2  2012-10-01 14:00:00       76.0      80.0           87.0     80.0   \n",
       "\n",
       "   Los Angeles  San Diego  Las Vegas  Phoenix  Albuquerque  ...  Philadelphia  \\\n",
       "0          NaN        NaN        NaN      NaN          NaN  ...           NaN   \n",
       "1         88.0       82.0       22.0     23.0         50.0  ...          71.0   \n",
       "2         88.0       81.0       21.0     23.0         49.0  ...          70.0   \n",
       "\n",
       "   New York  Montreal  Boston  Beersheba  Tel Aviv District  Eilat  Haifa  \\\n",
       "0       NaN       NaN     NaN        NaN                NaN   25.0    NaN   \n",
       "1      58.0      93.0    68.0       50.0               63.0   22.0   51.0   \n",
       "2      57.0      91.0    68.0       51.0               62.0   22.0   51.0   \n",
       "\n",
       "   Nahariyya  Jerusalem  \n",
       "0        NaN        NaN  \n",
       "1       51.0       50.0  \n",
       "2       51.0       50.0  \n",
       "\n",
       "[3 rows x 37 columns]"
      ]
     },
     "execution_count": 41,
     "metadata": {},
     "output_type": "execute_result"
    }
   ],
   "source": [
    "h.head(3)"
   ]
  },
  {
   "cell_type": "code",
   "execution_count": 42,
   "metadata": {},
   "outputs": [],
   "source": [
    "keep_columns(['datetime', 'Vancouver', 'Portland', 'San Francisco', 'Seattle',\n",
    "       'Los Angeles', 'San Diego', 'Las Vegas', 'Phoenix', 'Albuquerque',\n",
    "       'Denver', 'San Antonio', 'Dallas', 'Houston', 'Kansas City',\n",
    "       'Minneapolis', 'Saint Louis', 'Chicago', 'Nashville', 'Indianapolis',\n",
    "       'Atlanta', 'Detroit', 'Jacksonville', 'Charlotte', 'Miami',\n",
    "       'Pittsburgh', 'Toronto', 'Philadelphia', 'New York', 'Montreal',\n",
    "       'Boston'], h)"
   ]
  },
  {
   "cell_type": "code",
   "execution_count": 43,
   "metadata": {},
   "outputs": [
    {
     "data": {
      "text/plain": [
       "Index(['datetime', 'Vancouver', 'Portland', 'San Francisco', 'Seattle',\n",
       "       'Los Angeles', 'San Diego', 'Las Vegas', 'Phoenix', 'Albuquerque',\n",
       "       'Denver', 'San Antonio', 'Dallas', 'Houston', 'Kansas City',\n",
       "       'Minneapolis', 'Saint Louis', 'Chicago', 'Nashville', 'Indianapolis',\n",
       "       'Atlanta', 'Detroit', 'Jacksonville', 'Charlotte', 'Miami',\n",
       "       'Pittsburgh', 'Toronto', 'Philadelphia', 'New York', 'Montreal',\n",
       "       'Boston'],\n",
       "      dtype='object')"
      ]
     },
     "execution_count": 43,
     "metadata": {},
     "output_type": "execute_result"
    }
   ],
   "source": [
    "h.columns"
   ]
  },
  {
   "cell_type": "code",
   "execution_count": 44,
   "metadata": {},
   "outputs": [],
   "source": [
    "def mediana_mensual(x):\n",
    "    x['Date'] = x.datetime.apply(lambda y: y[:7])\n",
    "    return x.groupby(\"Date\").mean()"
   ]
  },
  {
   "cell_type": "code",
   "execution_count": 45,
   "metadata": {},
   "outputs": [],
   "source": [
    "hm = mediana_mensual(h)"
   ]
  },
  {
   "cell_type": "code",
   "execution_count": null,
   "metadata": {},
   "outputs": [],
   "source": []
  },
  {
   "cell_type": "code",
   "execution_count": null,
   "metadata": {},
   "outputs": [],
   "source": [
    "tecm['Carbon Levels'] = "
   ]
  },
  {
   "cell_type": "code",
   "execution_count": null,
   "metadata": {},
   "outputs": [],
   "source": [
    "for i in range(365):\n",
    "    c.drop([i], axis=0, inplace=True)"
   ]
  }
 ],
 "metadata": {
  "kernelspec": {
   "display_name": "ironcon",
   "language": "python",
   "name": "ironcon"
  },
  "language_info": {
   "codemirror_mode": {
    "name": "ipython",
    "version": 3
   },
   "file_extension": ".py",
   "mimetype": "text/x-python",
   "name": "python",
   "nbconvert_exporter": "python",
   "pygments_lexer": "ipython3",
   "version": "3.8.11"
  }
 },
 "nbformat": 4,
 "nbformat_minor": 4
}
