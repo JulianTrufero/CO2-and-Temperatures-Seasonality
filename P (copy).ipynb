{
 "cells": [
  {
   "cell_type": "code",
   "execution_count": 1,
   "metadata": {},
   "outputs": [],
   "source": [
    "import requests\n",
    "import json\n",
    "import os\n",
    "import pandas as pd\n",
    "import numpy as np"
   ]
  },
  {
   "cell_type": "code",
   "execution_count": null,
   "metadata": {},
   "outputs": [],
   "source": []
  },
  {
   "cell_type": "code",
   "execution_count": 2,
   "metadata": {},
   "outputs": [],
   "source": [
    "te = pd.read_csv('/home/julian/Cursos/Ironhack/Proyectos/Proyecto2/temperature.csv')"
   ]
  },
  {
   "cell_type": "code",
   "execution_count": 3,
   "metadata": {},
   "outputs": [
    {
     "data": {
      "text/plain": [
       "Index(['datetime', 'Vancouver', 'Portland', 'San Francisco', 'Seattle',\n",
       "       'Los Angeles', 'San Diego', 'Las Vegas', 'Phoenix', 'Albuquerque',\n",
       "       'Denver', 'San Antonio', 'Dallas', 'Houston', 'Kansas City',\n",
       "       'Minneapolis', 'Saint Louis', 'Chicago', 'Nashville', 'Indianapolis',\n",
       "       'Atlanta', 'Detroit', 'Jacksonville', 'Charlotte', 'Miami',\n",
       "       'Pittsburgh', 'Toronto', 'Philadelphia', 'New York', 'Montreal',\n",
       "       'Boston', 'Beersheba', 'Tel Aviv District', 'Eilat', 'Haifa',\n",
       "       'Nahariyya', 'Jerusalem'],\n",
       "      dtype='object')"
      ]
     },
     "execution_count": 3,
     "metadata": {},
     "output_type": "execute_result"
    }
   ],
   "source": [
    "te.columns"
   ]
  },
  {
   "cell_type": "code",
   "execution_count": 4,
   "metadata": {
    "scrolled": true
   },
   "outputs": [
    {
     "data": {
      "text/plain": [
       "(45253, 37)"
      ]
     },
     "execution_count": 4,
     "metadata": {},
     "output_type": "execute_result"
    }
   ],
   "source": [
    "te.shape"
   ]
  },
  {
   "cell_type": "code",
   "execution_count": 5,
   "metadata": {},
   "outputs": [],
   "source": [
    "nulls = [te[i].isna().value_counts() for i in te.columns]"
   ]
  },
  {
   "cell_type": "code",
   "execution_count": 6,
   "metadata": {},
   "outputs": [
    {
     "name": "stdout",
     "output_type": "stream",
     "text": [
      "False    45252\n",
      "True         1\n",
      "Name: Portland, dtype: int64\n"
     ]
    }
   ],
   "source": [
    "print(nulls[2])"
   ]
  },
  {
   "cell_type": "markdown",
   "metadata": {},
   "source": [
    "### eliminamos columnas inecesarias (solo usa y canada)"
   ]
  },
  {
   "cell_type": "code",
   "execution_count": 7,
   "metadata": {},
   "outputs": [],
   "source": [
    "def keep_columns(x, y):\n",
    "    \"\"\"\n",
    "    Toma como argumento la lista de las columnas que quiero conservar y el nombre del data frame.\n",
    "    Recorre el indice de columnas del data frame correspondiente y elimina las\n",
    "    columnas que no quiero conservar\n",
    "    \"\"\"\n",
    "    relevant = x\n",
    "    for i in y.columns:\n",
    "        if i not in relevant:\n",
    "            y.drop(columns=[i], inplace=True)"
   ]
  },
  {
   "cell_type": "code",
   "execution_count": 8,
   "metadata": {},
   "outputs": [],
   "source": [
    "keep_columns(['datetime', 'Vancouver', 'Portland', 'San Francisco', 'Seattle',\n",
    "       'Los Angeles', 'San Diego', 'Las Vegas', 'Phoenix', 'Albuquerque',\n",
    "       'Denver', 'San Antonio', 'Dallas', 'Houston', 'Kansas City',\n",
    "       'Minneapolis', 'Saint Louis', 'Chicago', 'Nashville', 'Indianapolis',\n",
    "       'Atlanta', 'Detroit', 'Jacksonville', 'Charlotte', 'Miami',\n",
    "       'Pittsburgh', 'Toronto', 'Philadelphia', 'New York', 'Montreal',\n",
    "       'Boston'], te)"
   ]
  },
  {
   "cell_type": "markdown",
   "metadata": {},
   "source": [
    "### Agrupamos por fecha y mediana"
   ]
  },
  {
   "cell_type": "code",
   "execution_count": 9,
   "metadata": {},
   "outputs": [],
   "source": [
    "def mediana_mensual(x):\n",
    "    x['Date'] = x.datetime.apply(lambda y: y[:7])\n",
    "    return x.groupby(\"Date\").median()"
   ]
  },
  {
   "cell_type": "code",
   "execution_count": 10,
   "metadata": {
    "scrolled": true
   },
   "outputs": [],
   "source": [
    "tem = mediana_mensual(te)"
   ]
  },
  {
   "cell_type": "markdown",
   "metadata": {},
   "source": [
    "### transformamos a celsius"
   ]
  },
  {
   "cell_type": "code",
   "execution_count": 11,
   "metadata": {},
   "outputs": [],
   "source": [
    "def celsius_conv(row):\n",
    "    for i in tem.index:\n",
    "           row[i] = row[i] - 273.15\n",
    "    return row\n",
    "          \n",
    "\n",
    "temc = tem.apply(lambda row : celsius_conv(row))"
   ]
  },
  {
   "cell_type": "code",
   "execution_count": 12,
   "metadata": {},
   "outputs": [
    {
     "data": {
      "text/html": [
       "<div>\n",
       "<style scoped>\n",
       "    .dataframe tbody tr th:only-of-type {\n",
       "        vertical-align: middle;\n",
       "    }\n",
       "\n",
       "    .dataframe tbody tr th {\n",
       "        vertical-align: top;\n",
       "    }\n",
       "\n",
       "    .dataframe thead th {\n",
       "        text-align: right;\n",
       "    }\n",
       "</style>\n",
       "<table border=\"1\" class=\"dataframe\">\n",
       "  <thead>\n",
       "    <tr style=\"text-align: right;\">\n",
       "      <th></th>\n",
       "      <th>Vancouver</th>\n",
       "      <th>Portland</th>\n",
       "      <th>San Francisco</th>\n",
       "      <th>Seattle</th>\n",
       "      <th>Los Angeles</th>\n",
       "      <th>San Diego</th>\n",
       "      <th>Las Vegas</th>\n",
       "      <th>Phoenix</th>\n",
       "      <th>Albuquerque</th>\n",
       "      <th>Denver</th>\n",
       "      <th>...</th>\n",
       "      <th>Detroit</th>\n",
       "      <th>Jacksonville</th>\n",
       "      <th>Charlotte</th>\n",
       "      <th>Miami</th>\n",
       "      <th>Pittsburgh</th>\n",
       "      <th>Toronto</th>\n",
       "      <th>Philadelphia</th>\n",
       "      <th>New York</th>\n",
       "      <th>Montreal</th>\n",
       "      <th>Boston</th>\n",
       "    </tr>\n",
       "    <tr>\n",
       "      <th>Date</th>\n",
       "      <th></th>\n",
       "      <th></th>\n",
       "      <th></th>\n",
       "      <th></th>\n",
       "      <th></th>\n",
       "      <th></th>\n",
       "      <th></th>\n",
       "      <th></th>\n",
       "      <th></th>\n",
       "      <th></th>\n",
       "      <th></th>\n",
       "      <th></th>\n",
       "      <th></th>\n",
       "      <th></th>\n",
       "      <th></th>\n",
       "      <th></th>\n",
       "      <th></th>\n",
       "      <th></th>\n",
       "      <th></th>\n",
       "      <th></th>\n",
       "      <th></th>\n",
       "    </tr>\n",
       "  </thead>\n",
       "  <tbody>\n",
       "    <tr>\n",
       "      <th>2012-10</th>\n",
       "      <td>10.050</td>\n",
       "      <td>11.630</td>\n",
       "      <td>15.730</td>\n",
       "      <td>10.630</td>\n",
       "      <td>19.260</td>\n",
       "      <td>18.85</td>\n",
       "      <td>20.35</td>\n",
       "      <td>23.740</td>\n",
       "      <td>13.83</td>\n",
       "      <td>9.730</td>\n",
       "      <td>...</td>\n",
       "      <td>11.370</td>\n",
       "      <td>23.24</td>\n",
       "      <td>15.505086</td>\n",
       "      <td>26.25</td>\n",
       "      <td>11.2400</td>\n",
       "      <td>10.11</td>\n",
       "      <td>14.190</td>\n",
       "      <td>14.750</td>\n",
       "      <td>10.600</td>\n",
       "      <td>13.150</td>\n",
       "    </tr>\n",
       "    <tr>\n",
       "      <th>2012-11</th>\n",
       "      <td>7.165</td>\n",
       "      <td>8.405</td>\n",
       "      <td>13.510</td>\n",
       "      <td>7.900</td>\n",
       "      <td>15.500</td>\n",
       "      <td>15.52</td>\n",
       "      <td>14.32</td>\n",
       "      <td>17.705</td>\n",
       "      <td>7.45</td>\n",
       "      <td>7.190</td>\n",
       "      <td>...</td>\n",
       "      <td>4.010</td>\n",
       "      <td>14.86</td>\n",
       "      <td>8.470000</td>\n",
       "      <td>21.66</td>\n",
       "      <td>3.4900</td>\n",
       "      <td>3.55</td>\n",
       "      <td>5.420</td>\n",
       "      <td>5.695</td>\n",
       "      <td>1.255</td>\n",
       "      <td>4.335</td>\n",
       "    </tr>\n",
       "    <tr>\n",
       "      <th>2012-12</th>\n",
       "      <td>4.025</td>\n",
       "      <td>5.110</td>\n",
       "      <td>10.665</td>\n",
       "      <td>5.065</td>\n",
       "      <td>13.245</td>\n",
       "      <td>13.13</td>\n",
       "      <td>8.82</td>\n",
       "      <td>11.405</td>\n",
       "      <td>1.31</td>\n",
       "      <td>0.275</td>\n",
       "      <td>...</td>\n",
       "      <td>2.455</td>\n",
       "      <td>15.96</td>\n",
       "      <td>9.195000</td>\n",
       "      <td>22.19</td>\n",
       "      <td>3.0025</td>\n",
       "      <td>0.75</td>\n",
       "      <td>4.575</td>\n",
       "      <td>4.490</td>\n",
       "      <td>-3.135</td>\n",
       "      <td>1.935</td>\n",
       "    </tr>\n",
       "  </tbody>\n",
       "</table>\n",
       "<p>3 rows × 30 columns</p>\n",
       "</div>"
      ],
      "text/plain": [
       "         Vancouver  Portland  San Francisco  Seattle  Los Angeles  San Diego  \\\n",
       "Date                                                                           \n",
       "2012-10     10.050    11.630         15.730   10.630       19.260      18.85   \n",
       "2012-11      7.165     8.405         13.510    7.900       15.500      15.52   \n",
       "2012-12      4.025     5.110         10.665    5.065       13.245      13.13   \n",
       "\n",
       "         Las Vegas  Phoenix  Albuquerque  Denver  ...  Detroit  Jacksonville  \\\n",
       "Date                                              ...                          \n",
       "2012-10      20.35   23.740        13.83   9.730  ...   11.370         23.24   \n",
       "2012-11      14.32   17.705         7.45   7.190  ...    4.010         14.86   \n",
       "2012-12       8.82   11.405         1.31   0.275  ...    2.455         15.96   \n",
       "\n",
       "         Charlotte  Miami  Pittsburgh  Toronto  Philadelphia  New York  \\\n",
       "Date                                                                     \n",
       "2012-10  15.505086  26.25     11.2400    10.11        14.190    14.750   \n",
       "2012-11   8.470000  21.66      3.4900     3.55         5.420     5.695   \n",
       "2012-12   9.195000  22.19      3.0025     0.75         4.575     4.490   \n",
       "\n",
       "         Montreal  Boston  \n",
       "Date                       \n",
       "2012-10    10.600  13.150  \n",
       "2012-11     1.255   4.335  \n",
       "2012-12    -3.135   1.935  \n",
       "\n",
       "[3 rows x 30 columns]"
      ]
     },
     "execution_count": 12,
     "metadata": {},
     "output_type": "execute_result"
    }
   ],
   "source": [
    "temc.head(3)"
   ]
  },
  {
   "cell_type": "markdown",
   "metadata": {},
   "source": [
    "### Repetimos proceso con datos de humedad"
   ]
  },
  {
   "cell_type": "code",
   "execution_count": 13,
   "metadata": {},
   "outputs": [],
   "source": [
    "h = pd.read_csv('/home/julian/Cursos/Ironhack/Proyectos/Proyecto2/humidity.csv')"
   ]
  },
  {
   "cell_type": "code",
   "execution_count": 14,
   "metadata": {},
   "outputs": [],
   "source": [
    "keep_columns(['datetime', 'Vancouver', 'Portland', 'San Francisco', 'Seattle',\n",
    "       'Los Angeles', 'San Diego', 'Las Vegas', 'Phoenix', 'Albuquerque',\n",
    "       'Denver', 'San Antonio', 'Dallas', 'Houston', 'Kansas City',\n",
    "       'Minneapolis', 'Saint Louis', 'Chicago', 'Nashville', 'Indianapolis',\n",
    "       'Atlanta', 'Detroit', 'Jacksonville', 'Charlotte', 'Miami',\n",
    "       'Pittsburgh', 'Toronto', 'Philadelphia', 'New York', 'Montreal',\n",
    "       'Boston'], h)"
   ]
  },
  {
   "cell_type": "code",
   "execution_count": 15,
   "metadata": {},
   "outputs": [],
   "source": [
    "def mediana_mensual(x):\n",
    "    x['Date'] = x.datetime.apply(lambda y: y[:7])\n",
    "    return x.groupby(\"Date\").median()"
   ]
  },
  {
   "cell_type": "code",
   "execution_count": 16,
   "metadata": {},
   "outputs": [],
   "source": [
    "hm = mediana_mensual(h)"
   ]
  },
  {
   "cell_type": "code",
   "execution_count": null,
   "metadata": {},
   "outputs": [],
   "source": []
  },
  {
   "cell_type": "markdown",
   "metadata": {},
   "source": [
    "### Obtengo los datos de la API"
   ]
  },
  {
   "cell_type": "code",
   "execution_count": 27,
   "metadata": {},
   "outputs": [],
   "source": [
    "def get_carbon_data(url):\n",
    "    url = f\"{url}\"\n",
    "    headers = {\n",
    "    'x-rapidapi-host': \"daily-atmosphere-carbon-dioxide-concentration.p.rapidapi.com\",\n",
    "    'x-rapidapi-key': \"6f91c81d8fmshc83b86b1b6c6c5cp108956jsnef221ca08c9a\"\n",
    "    }\n",
    "    response = requests.request(\"GET\", url, headers=headers)\n",
    "    t = response.json()\n",
    "    c = pd.DataFrame(t['co2'])\n",
    "    return c"
   ]
  },
  {
   "cell_type": "code",
   "execution_count": 64,
   "metadata": {
    "scrolled": false
   },
   "outputs": [],
   "source": [
    "c = get_carbon_data('https://daily-atmosphere-carbon-dioxide-concentration.p.rapidapi.com/api/co2-api')"
   ]
  },
  {
   "cell_type": "markdown",
   "metadata": {},
   "source": [
    "#### Creamos cd con todos los años para analizar dsp"
   ]
  },
  {
   "cell_type": "code",
   "execution_count": null,
   "metadata": {},
   "outputs": [],
   "source": [
    "def cod_agrupado(x):\n",
    "    return x.groupby([\"year\", \"month\"]).agg({\"cycle\": \"median\"})"
   ]
  },
  {
   "cell_type": "code",
   "execution_count": null,
   "metadata": {},
   "outputs": [],
   "source": [
    "cd = cod_agrupado(c)"
   ]
  },
  {
   "cell_type": "code",
   "execution_count": null,
   "metadata": {
    "scrolled": false
   },
   "outputs": [],
   "source": [
    "cd.head()"
   ]
  },
  {
   "cell_type": "code",
   "execution_count": 67,
   "metadata": {},
   "outputs": [
    {
     "data": {
      "text/html": [
       "<div>\n",
       "<style scoped>\n",
       "    .dataframe tbody tr th:only-of-type {\n",
       "        vertical-align: middle;\n",
       "    }\n",
       "\n",
       "    .dataframe tbody tr th {\n",
       "        vertical-align: top;\n",
       "    }\n",
       "\n",
       "    .dataframe thead th {\n",
       "        text-align: right;\n",
       "    }\n",
       "</style>\n",
       "<table border=\"1\" class=\"dataframe\">\n",
       "  <thead>\n",
       "    <tr style=\"text-align: right;\">\n",
       "      <th></th>\n",
       "      <th>year</th>\n",
       "      <th>month</th>\n",
       "      <th>day</th>\n",
       "      <th>cycle</th>\n",
       "      <th>trend</th>\n",
       "    </tr>\n",
       "  </thead>\n",
       "  <tbody>\n",
       "    <tr>\n",
       "      <th>3887</th>\n",
       "      <td>2021</td>\n",
       "      <td>8</td>\n",
       "      <td>23</td>\n",
       "      <td>411.45</td>\n",
       "      <td>415.31</td>\n",
       "    </tr>\n",
       "    <tr>\n",
       "      <th>3888</th>\n",
       "      <td>2021</td>\n",
       "      <td>8</td>\n",
       "      <td>24</td>\n",
       "      <td>411.45</td>\n",
       "      <td>415.31</td>\n",
       "    </tr>\n",
       "    <tr>\n",
       "      <th>3889</th>\n",
       "      <td>2021</td>\n",
       "      <td>8</td>\n",
       "      <td>25</td>\n",
       "      <td>411.45</td>\n",
       "      <td>415.32</td>\n",
       "    </tr>\n",
       "    <tr>\n",
       "      <th>3890</th>\n",
       "      <td>2021</td>\n",
       "      <td>8</td>\n",
       "      <td>26</td>\n",
       "      <td>411.45</td>\n",
       "      <td>415.33</td>\n",
       "    </tr>\n",
       "    <tr>\n",
       "      <th>3891</th>\n",
       "      <td>2021</td>\n",
       "      <td>8</td>\n",
       "      <td>27</td>\n",
       "      <td>411.46</td>\n",
       "      <td>415.33</td>\n",
       "    </tr>\n",
       "  </tbody>\n",
       "</table>\n",
       "</div>"
      ],
      "text/plain": [
       "      year month day   cycle   trend\n",
       "3887  2021     8  23  411.45  415.31\n",
       "3888  2021     8  24  411.45  415.31\n",
       "3889  2021     8  25  411.45  415.32\n",
       "3890  2021     8  26  411.45  415.33\n",
       "3891  2021     8  27  411.46  415.33"
      ]
     },
     "execution_count": 67,
     "metadata": {},
     "output_type": "execute_result"
    }
   ],
   "source": [
    "c.tail()"
   ]
  },
  {
   "cell_type": "markdown",
   "metadata": {},
   "source": [
    "#### Escalamos a cd para que tenga solo los años que nos interesan"
   ]
  },
  {
   "cell_type": "code",
   "execution_count": 68,
   "metadata": {},
   "outputs": [],
   "source": [
    "dates = pd.period_range(start='2011-01-01', end='2021-08-27', freq='D')"
   ]
  },
  {
   "cell_type": "code",
   "execution_count": 69,
   "metadata": {},
   "outputs": [],
   "source": [
    "c['datetime'] = [str(dates[i]) for i in range(len(dates))]"
   ]
  },
  {
   "cell_type": "code",
   "execution_count": 70,
   "metadata": {
    "scrolled": true
   },
   "outputs": [
    {
     "data": {
      "text/html": [
       "<div>\n",
       "<style scoped>\n",
       "    .dataframe tbody tr th:only-of-type {\n",
       "        vertical-align: middle;\n",
       "    }\n",
       "\n",
       "    .dataframe tbody tr th {\n",
       "        vertical-align: top;\n",
       "    }\n",
       "\n",
       "    .dataframe thead th {\n",
       "        text-align: right;\n",
       "    }\n",
       "</style>\n",
       "<table border=\"1\" class=\"dataframe\">\n",
       "  <thead>\n",
       "    <tr style=\"text-align: right;\">\n",
       "      <th></th>\n",
       "      <th>year</th>\n",
       "      <th>month</th>\n",
       "      <th>day</th>\n",
       "      <th>cycle</th>\n",
       "      <th>trend</th>\n",
       "      <th>datetime</th>\n",
       "    </tr>\n",
       "  </thead>\n",
       "  <tbody>\n",
       "    <tr>\n",
       "      <th>0</th>\n",
       "      <td>2011</td>\n",
       "      <td>1</td>\n",
       "      <td>1</td>\n",
       "      <td>391.26</td>\n",
       "      <td>389.73</td>\n",
       "      <td>2011-01-01</td>\n",
       "    </tr>\n",
       "    <tr>\n",
       "      <th>1</th>\n",
       "      <td>2011</td>\n",
       "      <td>1</td>\n",
       "      <td>2</td>\n",
       "      <td>391.29</td>\n",
       "      <td>389.73</td>\n",
       "      <td>2011-01-02</td>\n",
       "    </tr>\n",
       "    <tr>\n",
       "      <th>2</th>\n",
       "      <td>2011</td>\n",
       "      <td>1</td>\n",
       "      <td>3</td>\n",
       "      <td>391.33</td>\n",
       "      <td>389.74</td>\n",
       "      <td>2011-01-03</td>\n",
       "    </tr>\n",
       "  </tbody>\n",
       "</table>\n",
       "</div>"
      ],
      "text/plain": [
       "   year month day   cycle   trend    datetime\n",
       "0  2011     1   1  391.26  389.73  2011-01-01\n",
       "1  2011     1   2  391.29  389.73  2011-01-02\n",
       "2  2011     1   3  391.33  389.74  2011-01-03"
      ]
     },
     "execution_count": 70,
     "metadata": {},
     "output_type": "execute_result"
    }
   ],
   "source": [
    "c.head(3)"
   ]
  },
  {
   "cell_type": "code",
   "execution_count": 71,
   "metadata": {},
   "outputs": [],
   "source": [
    "keep_columns(['datetime', 'cycle', 'trend'], c)"
   ]
  },
  {
   "cell_type": "code",
   "execution_count": 72,
   "metadata": {},
   "outputs": [],
   "source": [
    "c['Date'] = c.datetime.apply(lambda y: y[:7])"
   ]
  },
  {
   "cell_type": "code",
   "execution_count": 73,
   "metadata": {},
   "outputs": [],
   "source": [
    "co2 = c.groupby(\"Date\").agg({\"cycle\": \"median\"})"
   ]
  },
  {
   "cell_type": "code",
   "execution_count": 74,
   "metadata": {},
   "outputs": [
    {
     "data": {
      "text/html": [
       "<div>\n",
       "<style scoped>\n",
       "    .dataframe tbody tr th:only-of-type {\n",
       "        vertical-align: middle;\n",
       "    }\n",
       "\n",
       "    .dataframe tbody tr th {\n",
       "        vertical-align: top;\n",
       "    }\n",
       "\n",
       "    .dataframe thead th {\n",
       "        text-align: right;\n",
       "    }\n",
       "</style>\n",
       "<table border=\"1\" class=\"dataframe\">\n",
       "  <thead>\n",
       "    <tr style=\"text-align: right;\">\n",
       "      <th></th>\n",
       "      <th>cycle</th>\n",
       "    </tr>\n",
       "    <tr>\n",
       "      <th>Date</th>\n",
       "      <th></th>\n",
       "    </tr>\n",
       "  </thead>\n",
       "  <tbody>\n",
       "    <tr>\n",
       "      <th>2011-01</th>\n",
       "      <td>391.680</td>\n",
       "    </tr>\n",
       "    <tr>\n",
       "      <th>2011-02</th>\n",
       "      <td>391.730</td>\n",
       "    </tr>\n",
       "    <tr>\n",
       "      <th>2011-03</th>\n",
       "      <td>391.760</td>\n",
       "    </tr>\n",
       "    <tr>\n",
       "      <th>2011-04</th>\n",
       "      <td>392.240</td>\n",
       "    </tr>\n",
       "    <tr>\n",
       "      <th>2011-05</th>\n",
       "      <td>392.410</td>\n",
       "    </tr>\n",
       "    <tr>\n",
       "      <th>...</th>\n",
       "      <td>...</td>\n",
       "    </tr>\n",
       "    <tr>\n",
       "      <th>2021-04</th>\n",
       "      <td>416.415</td>\n",
       "    </tr>\n",
       "    <tr>\n",
       "      <th>2021-05</th>\n",
       "      <td>416.750</td>\n",
       "    </tr>\n",
       "    <tr>\n",
       "      <th>2021-06</th>\n",
       "      <td>415.940</td>\n",
       "    </tr>\n",
       "    <tr>\n",
       "      <th>2021-07</th>\n",
       "      <td>413.430</td>\n",
       "    </tr>\n",
       "    <tr>\n",
       "      <th>2021-08</th>\n",
       "      <td>411.590</td>\n",
       "    </tr>\n",
       "  </tbody>\n",
       "</table>\n",
       "<p>128 rows × 1 columns</p>\n",
       "</div>"
      ],
      "text/plain": [
       "           cycle\n",
       "Date            \n",
       "2011-01  391.680\n",
       "2011-02  391.730\n",
       "2011-03  391.760\n",
       "2011-04  392.240\n",
       "2011-05  392.410\n",
       "...          ...\n",
       "2021-04  416.415\n",
       "2021-05  416.750\n",
       "2021-06  415.940\n",
       "2021-07  413.430\n",
       "2021-08  411.590\n",
       "\n",
       "[128 rows x 1 columns]"
      ]
     },
     "metadata": {},
     "output_type": "display_data"
    }
   ],
   "source": [
    "display(co2)"
   ]
  },
  {
   "cell_type": "code",
   "execution_count": null,
   "metadata": {},
   "outputs": [],
   "source": [
    "tecm['Carbon Levels'] = "
   ]
  },
  {
   "cell_type": "code",
   "execution_count": 60,
   "metadata": {},
   "outputs": [],
   "source": [
    "#\n",
    "for i in co2.index:\n",
    "    if i in ['2011', '2018', '2019', '2020', '2021']:\n",
    "        co2.drop([i], axis=0, inplace=True)"
   ]
  },
  {
   "cell_type": "code",
   "execution_count": 62,
   "metadata": {},
   "outputs": [],
   "source": [
    "co2.drop(['2011-01'], axis=0, inplace=True)"
   ]
  },
  {
   "cell_type": "code",
   "execution_count": 63,
   "metadata": {},
   "outputs": [
    {
     "data": {
      "text/html": [
       "<div>\n",
       "<style scoped>\n",
       "    .dataframe tbody tr th:only-of-type {\n",
       "        vertical-align: middle;\n",
       "    }\n",
       "\n",
       "    .dataframe tbody tr th {\n",
       "        vertical-align: top;\n",
       "    }\n",
       "\n",
       "    .dataframe thead th {\n",
       "        text-align: right;\n",
       "    }\n",
       "</style>\n",
       "<table border=\"1\" class=\"dataframe\">\n",
       "  <thead>\n",
       "    <tr style=\"text-align: right;\">\n",
       "      <th></th>\n",
       "      <th>cycle</th>\n",
       "    </tr>\n",
       "    <tr>\n",
       "      <th>Date</th>\n",
       "      <th></th>\n",
       "    </tr>\n",
       "  </thead>\n",
       "  <tbody>\n",
       "    <tr>\n",
       "      <th>2011-02</th>\n",
       "      <td>391.73</td>\n",
       "    </tr>\n",
       "    <tr>\n",
       "      <th>2011-03</th>\n",
       "      <td>391.76</td>\n",
       "    </tr>\n",
       "    <tr>\n",
       "      <th>2011-04</th>\n",
       "      <td>392.24</td>\n",
       "    </tr>\n",
       "    <tr>\n",
       "      <th>2011-05</th>\n",
       "      <td>392.41</td>\n",
       "    </tr>\n",
       "    <tr>\n",
       "      <th>2011-06</th>\n",
       "      <td>391.56</td>\n",
       "    </tr>\n",
       "  </tbody>\n",
       "</table>\n",
       "</div>"
      ],
      "text/plain": [
       "          cycle\n",
       "Date           \n",
       "2011-02  391.73\n",
       "2011-03  391.76\n",
       "2011-04  392.24\n",
       "2011-05  392.41\n",
       "2011-06  391.56"
      ]
     },
     "execution_count": 63,
     "metadata": {},
     "output_type": "execute_result"
    }
   ],
   "source": [
    "co2.head()"
   ]
  },
  {
   "cell_type": "code",
   "execution_count": null,
   "metadata": {},
   "outputs": [],
   "source": []
  }
 ],
 "metadata": {
  "kernelspec": {
   "display_name": "ironcon",
   "language": "python",
   "name": "ironcon"
  },
  "language_info": {
   "codemirror_mode": {
    "name": "ipython",
    "version": 3
   },
   "file_extension": ".py",
   "mimetype": "text/x-python",
   "name": "python",
   "nbconvert_exporter": "python",
   "pygments_lexer": "ipython3",
   "version": "3.8.11"
  }
 },
 "nbformat": 4,
 "nbformat_minor": 4
}
